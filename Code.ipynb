{
 "cells": [
  {
   "cell_type": "code",
   "execution_count": 1,
   "id": "820ab83c",
   "metadata": {},
   "outputs": [],
   "source": [
    "#perform lossy compression of a colored image by subsampling its color space without a noticeable visual quality difference."
   ]
  },
  {
   "cell_type": "markdown",
   "id": "ab3794d4",
   "metadata": {},
   "source": [
    "We represent colored image data in the RGB format, in which we stack layers of red, green, and blue components of the image pixels to produce a colored image.\n",
    "\n",
    "In the human eye, cones perceive chrominance, and rods perceive luminance. The human eye has more rods (about 91 million) than cones (about 4.5 million). Therefore, it is more sensitive to changes in brightness than chrominance. This allows the subsampling of the color component of the image by retaining the luminance and keeping the perceived quality of the image unchanged.\n",
    "\n",
    "The RGB color space can be transformed to the YCbCr space, where the principal component Y is along the main diagonal of the RGB space, and the Cb and Cr components are orthogonal to it. This transformation separates the luminance and chrominance components of the image.\n",
    "\n",
    "In this project, we will learn to compress image data by compromising the chrominance details since the human eye is less sensitive to it. This is achieved by transforming the RGB image to YCbCr and then subsampling the Cb and Cr components. We will use interpolation to reconstruct the compressed image. We will also examine the compression ratio achieved by this algorithm in terms of file size."
   ]
  },
  {
   "cell_type": "code",
   "execution_count": null,
   "id": "e5137cdb",
   "metadata": {},
   "outputs": [],
   "source": []
  }
 ],
 "metadata": {
  "kernelspec": {
   "display_name": "Python 3.9 (tensorflow)",
   "language": "python",
   "name": "majorproject"
  },
  "language_info": {
   "codemirror_mode": {
    "name": "ipython",
    "version": 3
   },
   "file_extension": ".py",
   "mimetype": "text/x-python",
   "name": "python",
   "nbconvert_exporter": "python",
   "pygments_lexer": "ipython3",
   "version": "3.9.17"
  }
 },
 "nbformat": 4,
 "nbformat_minor": 5
}
