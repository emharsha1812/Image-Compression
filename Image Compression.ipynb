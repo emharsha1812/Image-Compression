{
 "cells": [
  {
   "cell_type": "code",
   "execution_count": 2,
   "id": "5bfd2bd9",
   "metadata": {},
   "outputs": [
    {
     "ename": "ModuleNotFoundError",
     "evalue": "No module named 'cv2'",
     "output_type": "error",
     "traceback": [
      "\u001b[1;31m---------------------------------------------------------------------------\u001b[0m",
      "\u001b[1;31mModuleNotFoundError\u001b[0m                       Traceback (most recent call last)",
      "Cell \u001b[1;32mIn[2], line 2\u001b[0m\n\u001b[0;32m      1\u001b[0m \u001b[38;5;28;01mimport\u001b[39;00m \u001b[38;5;21;01mrawpy\u001b[39;00m\n\u001b[1;32m----> 2\u001b[0m \u001b[38;5;28;01mimport\u001b[39;00m \u001b[38;5;21;01mcv2\u001b[39;00m\n\u001b[0;32m      3\u001b[0m \u001b[38;5;28;01mimport\u001b[39;00m \u001b[38;5;21;01mnumpy\u001b[39;00m \u001b[38;5;28;01mas\u001b[39;00m \u001b[38;5;21;01mnp\u001b[39;00m\n\u001b[0;32m      4\u001b[0m \u001b[38;5;28;01mfrom\u001b[39;00m \u001b[38;5;21;01mmultiprocessing\u001b[39;00m\u001b[38;5;21;01m.\u001b[39;00m\u001b[38;5;21;01mpool\u001b[39;00m \u001b[38;5;28;01mimport\u001b[39;00m Pool\n",
      "\u001b[1;31mModuleNotFoundError\u001b[0m: No module named 'cv2'"
     ]
    }
   ],
   "source": [
    "import rawpy\n",
    "import cv2\n",
    "import numpy as np\n",
    "from multiprocessing.pool import Pool\n",
    "import utils\n",
    "import os\n",
    "\n"
   ]
  },
  {
   "cell_type": "code",
   "execution_count": null,
   "id": "e440afa1",
   "metadata": {},
   "outputs": [],
   "source": [
    "#Instantiation\n",
    "lum_downsample=utils.Downsampling(ratio='4:4:0')\n",
    "chr_downsample=utils.Downsampling(ratio='4:2:0')\n",
    "image_block=utils.ImageBlock(block_height=8,block_width=8)\n",
    "dct2d=utils.DCT2D(norm='ortho')\n",
    "quantization=utils.Quantization()"
   ]
  },
  {
   "cell_type": "code",
   "execution_count": null,
   "id": "8bb9d62b",
   "metadata": {},
   "outputs": [],
   "source": [
    "#Read raw images\n",
    "path='Images/Original.ARW'\n",
    "raw=rawpy.imread(path)\n",
    "\n",
    "\n",
    "#Postprocess the currently loaded RAW image and return the new resulting image as numpy array.\n",
    "\n",
    "rgb_img=raw.postprocess()\n",
    "\n",
    "\n",
    "#Changing the colorspace from RGB to YCbCr\n",
    "ycc_img=cv2.cvtColor(rgb_img,cv2.COLOR_XYZ2RGB)\n",
    "\n",
    "#Center\n",
    "ycc_img=ycc_img.astype(int)-128"
   ]
  },
  {
   "cell_type": "code",
   "execution_count": null,
   "id": "6e26b50f",
   "metadata": {},
   "outputs": [],
   "source": [
    "#Downsampling\n",
    "Y = lum_downsample(ycc_img[:,:,0])\n",
    "Cr = chr_downsample(ycc_img[:,:,1])\n",
    "Cb = chr_downsample(ycc_img[:,:,2])\n",
    "ycc_img = np.stack((Y, Cr, Cb), axis=2)\n",
    "\n",
    "\n",
    "\n",
    "# Create 8X8 blocks\n",
    "blocks,indices=image_block.forward(ycc_img)"
   ]
  },
  {
   "cell_type": "code",
   "execution_count": null,
   "id": "66a2e487",
   "metadata": {},
   "outputs": [],
   "source": [
    "#Compression \n",
    "\n",
    "def process_block(block,index):\n",
    "    #DCT\n",
    "    encoded=dct2d.forward(block)\n",
    "    \n",
    "    if index[2]==0:\n",
    "        channel_type='lum'\n",
    "    else:\n",
    "        channel_type='chr'\n",
    "    \n",
    "    #Quantization\n",
    "    encoded=quantization.forward(encoded,channel_type)\n",
    "    \n",
    "    #Dequantization\n",
    "    decoded=quantization.backward(encoded,channel_type)\n",
    "    \n",
    "    #Reverse DCT\n",
    "    compressed=dct2d.backward(decoded)\n",
    "    return compressed\n",
    "\n",
    "\n",
    "compressed=np.array(Pool().starmap(process_block,zip(blocks,indices)))"
   ]
  },
  {
   "cell_type": "code",
   "execution_count": null,
   "id": "549ef184",
   "metadata": {},
   "outputs": [],
   "source": [
    "#Reconstruct images from blocks\n",
    "ycc_img_compressed=image_block.backward(compressed,indices)\n",
    "\n",
    "#Rescale\n",
    "ycc_img_compressed=(ycc_img_compressed+128).astype('uint8')\n",
    "\n",
    "#Transform back to RGB\n",
    "rgb_img_compressed=cv2.cvtColor(ycc_img_compressed,cv2.COLOR_YCrCb2RGB)\n",
    "\n",
    "\n",
    "Image.fromarray(rgb_img_compressed).save(os.path.join('images','result.jpeg'))"
   ]
  },
  {
   "cell_type": "code",
   "execution_count": null,
   "id": "e5b3d8f0",
   "metadata": {},
   "outputs": [],
   "source": []
  }
 ],
 "metadata": {
  "kernelspec": {
   "display_name": "Python 3 (ipykernel)",
   "language": "python",
   "name": "python3"
  },
  "language_info": {
   "codemirror_mode": {
    "name": "ipython",
    "version": 3
   },
   "file_extension": ".py",
   "mimetype": "text/x-python",
   "name": "python",
   "nbconvert_exporter": "python",
   "pygments_lexer": "ipython3",
   "version": "3.9.16"
  }
 },
 "nbformat": 4,
 "nbformat_minor": 5
}
