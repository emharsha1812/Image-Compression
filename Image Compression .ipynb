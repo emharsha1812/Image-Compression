{
 "cells": [
  {
   "cell_type": "code",
   "execution_count": 28,
   "id": "5bfd2bd9",
   "metadata": {},
   "outputs": [],
   "source": [
    "import rawpy\n",
    "import cv2\n",
    "import numpy as np\n",
    "\n"
   ]
  },
  {
   "cell_type": "code",
   "execution_count": 29,
   "id": "8bb9d62b",
   "metadata": {},
   "outputs": [],
   "source": [
    "#Read raw images\n",
    "path='Images/Original.ARW'\n",
    "raw=rawpy.imread(path)\n",
    "\n",
    "\n",
    "#Postprocess the currently loaded RAW image and return the new resulting image as numpy array.\n",
    "\n",
    "rgb_img=raw.postprocess()\n",
    "\n",
    "\n",
    "#Changing the colorspace from RGB to YCbCr\n",
    "ycc_img=cv2.cvtColor(rgb_img,cv2.COLOR_XYZ2RGB)\n",
    "\n",
    "#Center\n",
    "ycc_img=ycc_img.astype(int)-128"
   ]
  },
  {
   "cell_type": "code",
   "execution_count": 30,
   "id": "6e26b50f",
   "metadata": {},
   "outputs": [],
   "source": [
    "\n",
    "def downsampling(x,ratio='4:2:0'):\n",
    "    assert ratio in ('4:4:0', '4:2:2','4:2:0'),\"{'4:4:4', '4:2:2', '4:2:0'}\"\n",
    "    \n",
    "    #No subsampling\n",
    "    \n",
    "    if ratio=='4:4:4':\n",
    "        return x\n",
    "    \n",
    "    else:\n",
    "        out=np.zeros((x.shape))\n",
    "        \n",
    "        #Downsampling in the window of 2 in the horizontal direction\n",
    "        \n",
    "        if ratio=='4:4:2':\n",
    "            for i in range(0,x.shape[0],2):\n",
    "                out[i:i+2]=np.mean(x[i:i+2],axis=0)\n",
    "                \n",
    "        #Downsample with a window of 2 in both directions\n",
    "        \n",
    "        else:\n",
    "            for i in range(0,x.shape[0],2):\n",
    "                for j in range(0,x.shape[1],2):\n",
    "                    out[i:i+2, j:j+2]=np.mean(x[i:i+2,j:j+2])\n",
    "        \n",
    "    return np.round(out).astype('uint8')\n",
    "\n",
    "\n",
    "                "
   ]
  },
  {
   "cell_type": "code",
   "execution_count": 31,
   "id": "66a2e487",
   "metadata": {},
   "outputs": [
    {
     "ename": "TypeError",
     "evalue": "'numpy.ndarray' object is not callable",
     "output_type": "error",
     "traceback": [
      "\u001b[1;31m---------------------------------------------------------------------------\u001b[0m",
      "\u001b[1;31mTypeError\u001b[0m                                 Traceback (most recent call last)",
      "\u001b[1;32m~\\AppData\\Local\\Temp\\ipykernel_24716\\837424492.py\u001b[0m in \u001b[0;36m<module>\u001b[1;34m\u001b[0m\n\u001b[0;32m      2\u001b[0m \u001b[0mchr_downsample\u001b[0m\u001b[1;33m=\u001b[0m\u001b[0mdownsampling\u001b[0m\u001b[1;33m(\u001b[0m\u001b[0mycc_img\u001b[0m\u001b[1;33m,\u001b[0m\u001b[0mratio\u001b[0m\u001b[1;33m=\u001b[0m\u001b[1;34m'4:2:0'\u001b[0m\u001b[1;33m)\u001b[0m\u001b[1;33m\u001b[0m\u001b[1;33m\u001b[0m\u001b[0m\n\u001b[0;32m      3\u001b[0m \u001b[1;33m\u001b[0m\u001b[0m\n\u001b[1;32m----> 4\u001b[1;33m \u001b[0mY\u001b[0m\u001b[1;33m=\u001b[0m\u001b[0mlum_downsample\u001b[0m\u001b[1;33m(\u001b[0m\u001b[0mycc_img\u001b[0m\u001b[1;33m[\u001b[0m\u001b[1;33m:\u001b[0m\u001b[1;33m,\u001b[0m\u001b[1;33m:\u001b[0m\u001b[1;33m,\u001b[0m\u001b[1;36m0\u001b[0m\u001b[1;33m]\u001b[0m\u001b[1;33m)\u001b[0m \u001b[1;31m#Luma\u001b[0m\u001b[1;33m\u001b[0m\u001b[1;33m\u001b[0m\u001b[0m\n\u001b[0m\u001b[0;32m      5\u001b[0m \u001b[0mCr\u001b[0m\u001b[1;33m=\u001b[0m\u001b[0mchr_downsample\u001b[0m\u001b[1;33m(\u001b[0m\u001b[0mycc_img\u001b[0m\u001b[1;33m[\u001b[0m\u001b[1;33m:\u001b[0m\u001b[1;33m,\u001b[0m\u001b[1;33m:\u001b[0m\u001b[1;33m,\u001b[0m\u001b[1;36m1\u001b[0m\u001b[1;33m]\u001b[0m\u001b[1;33m)\u001b[0m \u001b[1;31m#Red Chroma\u001b[0m\u001b[1;33m\u001b[0m\u001b[1;33m\u001b[0m\u001b[0m\n\u001b[0;32m      6\u001b[0m \u001b[0mCb\u001b[0m\u001b[1;33m=\u001b[0m\u001b[0mchr_downsample\u001b[0m\u001b[1;33m(\u001b[0m\u001b[0mycc_img\u001b[0m\u001b[1;33m[\u001b[0m\u001b[1;33m:\u001b[0m\u001b[1;33m,\u001b[0m\u001b[1;33m:\u001b[0m\u001b[1;33m,\u001b[0m\u001b[1;36m2\u001b[0m\u001b[1;33m]\u001b[0m\u001b[1;33m)\u001b[0m \u001b[1;31m# Blue Chroma\u001b[0m\u001b[1;33m\u001b[0m\u001b[1;33m\u001b[0m\u001b[0m\n",
      "\u001b[1;31mTypeError\u001b[0m: 'numpy.ndarray' object is not callable"
     ]
    }
   ],
   "source": [
    "lum_downsample=downsampling(ycc_img,ratio='4:4:0')\n",
    "chr_downsample=downsampling(ycc_img,ratio='4:2:0')\n",
    "\n",
    "Y=lum_downsample(ycc_img[:,:,0]) #Luma\n",
    "Cr=chr_downsample(ycc_img[:,:,1]) #Red Chroma\n",
    "Cb=chr_downsample(ycc_img[:,:,2]) # Blue Chroma\n",
    "\n",
    "ycc_img=np.stack((Y,Cr,Cb),axis=2) #Stack the channels back"
   ]
  },
  {
   "cell_type": "code",
   "execution_count": null,
   "id": "549ef184",
   "metadata": {},
   "outputs": [],
   "source": [
    "class ImageBlock():\n",
    "    def __init__(self, block_height=8, block_width=8):\n",
    "        self.block_height = block_height\n",
    "        self.block_width = block_width\n",
    "        self.left_padding = self.right_padding = self.top_padding = self.bottom_padding = 0\n",
    "    \n",
    "    def forward(self, image):\n",
    "        self.image_height = image.shape[0]\n",
    "        self.image_width = image.shape[1]\n",
    "        self.image_channel = image.shape[2]\n",
    "    \n",
    "        # Vertical padding\n",
    "        if self.image_height % self.block_height != 0:\n",
    "            vpad = self.image_height % self.block_height\n",
    "            self.top_padding = vpad // 2 \n",
    "            self.bottom_padding = vpad - self.top_padding\n",
    "            image = np.concatenate((np.repeat(image[:1], self.top_padding, 0), image, \n",
    "                                    np.repeat(image[-1:], self.bottom_padding, 0)), axis=0)\n",
    "            \n",
    "        # Horizontal padding\n",
    "        if self.image_width % self.block_width != 0:\n",
    "            hpad = self.image_width % self.block_width\n",
    "            self.left_padding = hpad // 2 \n",
    "            self.right_padding = hpad - self.left_padding\n",
    "            image = np.concatenate((np.repeat(image[:,:1], self.left_padding, 1), image, \n",
    "                                    np.repeat(image[:,-1:], self.right_padding, 1)), axis=1)\n",
    "    \n",
    "        # Update dimension\n",
    "        self.image_height = image.shape[0]\n",
    "        self.image_width = image.shape[1]\n",
    "\n",
    "        # Create blocks\n",
    "        blocks = []\n",
    "        indices = []\n",
    "        for i in range(0, self.image_height, self.block_height):\n",
    "            for j in range(0, self.image_width, self.block_width):\n",
    "                for k in range(self.image_channel):\n",
    "                    blocks.append(image[i:i+self.block_height, j:j+self.block_width, k])\n",
    "                    indices.append((i,j,k))\n",
    "                    \n",
    "        blocks = np.array(blocks)\n",
    "        indices = np.array(indices)\n",
    "        return blocks, indices\n",
    "    \n",
    "    def backward(self, blocks, indices):\n",
    "        # Empty image array\n",
    "        image = np.zeros((self.image_height, self.image_width, self.image_channel)).astype(int)\n",
    "        for block, index in zip(blocks, indices):\n",
    "            i, j, k = index\n",
    "            image[i:i+self.block_height, j:j+self.block_width, k] = block\n",
    "            \n",
    "        # Remove padding\n",
    "        if self.top_padding > 0:\n",
    "            image = image[self.top_padding:,:,:]\n",
    "        if self.bottom_padding > 0:\n",
    "            image = image[:-self.bottom_padding,:,:] \n",
    "        if self.left_padding > 0:\n",
    "            image = image[:,self.left_padding:,:]\n",
    "        if self.right_padding > 0:\n",
    "            image = image[:,:-self.right_padding,:]\n",
    "        return image"
   ]
  },
  {
   "cell_type": "code",
   "execution_count": null,
   "id": "e5b3d8f0",
   "metadata": {},
   "outputs": [],
   "source": [
    "from scipy.fft import dct\n",
    "\n",
    "def dct2d(x):\n",
    "    out=dct(dct(x,norm=))"
   ]
  }
 ],
 "metadata": {
  "kernelspec": {
   "display_name": "Python 3 (ipykernel)",
   "language": "python",
   "name": "python3"
  },
  "language_info": {
   "codemirror_mode": {
    "name": "ipython",
    "version": 3
   },
   "file_extension": ".py",
   "mimetype": "text/x-python",
   "name": "python",
   "nbconvert_exporter": "python",
   "pygments_lexer": "ipython3",
   "version": "3.9.13"
  }
 },
 "nbformat": 4,
 "nbformat_minor": 5
}
